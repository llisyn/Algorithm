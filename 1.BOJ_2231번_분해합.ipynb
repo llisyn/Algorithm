{
 "cells": [
  {
   "cell_type": "code",
   "execution_count": 27,
   "id": "3f96e8f4",
   "metadata": {},
   "outputs": [
    {
     "name": "stdout",
     "output_type": "stream",
     "text": [
      "216\n"
     ]
    }
   ],
   "source": [
    "N = int(input())\n",
    "result = 0\n",
    "\n",
    "for i in range(1, N+1):        \n",
    "    a = list(map(int, str(i)))  \n",
    "    s = i + sum(a)              \n",
    "    if(s == N):                 \n",
    "        result = i                   \n",
    "        break\n",
    "\n",
    "print(result)"
   ]
  },
  {
   "cell_type": "code",
   "execution_count": null,
   "id": "30e83ae6",
   "metadata": {},
   "outputs": [],
   "source": [
    "N = int(input())\n",
    "answer = []\n",
    "\n",
    "for i in range(1, N):\n",
    "    res = 0\n",
    "    A = list(map(int, str(i)))\n",
    "    res = i + sum(A)\n",
    "    \n",
    "    if res == a:\n",
    "        answer.append(i)\n",
    "        \n",
    "if len(answer):\n",
    "    print(max(answer))\n",
    "else:\n",
    "    print(0)"
   ]
  }
 ],
 "metadata": {
  "kernelspec": {
   "display_name": "Python 3 (ipykernel)",
   "language": "python",
   "name": "python3"
  },
  "language_info": {
   "codemirror_mode": {
    "name": "ipython",
    "version": 3
   },
   "file_extension": ".py",
   "mimetype": "text/x-python",
   "name": "python",
   "nbconvert_exporter": "python",
   "pygments_lexer": "ipython3",
   "version": "3.9.1"
  }
 },
 "nbformat": 4,
 "nbformat_minor": 5
}
